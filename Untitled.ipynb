{
 "cells": [
  {
   "cell_type": "code",
   "execution_count": null,
   "metadata": {},
   "outputs": [
    {
     "name": "stdout",
     "output_type": "stream",
     "text": [
      "opened chico-buarque-scrape.json\n",
      "going to write chord corpus!\n",
      "opened elis-regina-scrape.json\n",
      "going to write chord corpus!\n",
      "opened joao-gilberto-scrape.json\n",
      "going to write chord corpus!\n",
      "opened tom-jobim-scrape.json\n",
      "going to write chord corpus!\n",
      "Is chord in TAB form or CHORD form?  0 to exit.\n",
      "tab\n",
      "Input tab. Must be in form 3x333x \n",
      "3x323x\n",
      "tab form of chord not found in chord dictionary!\n",
      "Is chord in TAB form or CHORD form?  0 to exit.\n",
      "tab\n",
      "Input tab. Must be in form 3x333x \n",
      "3x323x\n",
      "tab form of chord not found in chord dictionary!\n",
      "Is chord in TAB form or CHORD form?  0 to exit.\n",
      "tab\n",
      "Input tab. Must be in form 3x333x \n",
      "x3545x\n",
      "tab form of chord not found in chord dictionary!\n",
      "Is chord in TAB form or CHORD form?  0 to exit.\n",
      "tab\n",
      "Input tab. Must be in form 3x333x \n",
      "x3545x\n",
      "tab form of chord not found in chord dictionary!\n"
     ]
    }
   ],
   "source": [
    "import bossafy"
   ]
  },
  {
   "cell_type": "code",
   "execution_count": null,
   "metadata": {
    "collapsed": true
   },
   "outputs": [],
   "source": []
  }
 ],
 "metadata": {
  "kernelspec": {
   "display_name": "Python 2",
   "language": "python",
   "name": "python2"
  },
  "language_info": {
   "codemirror_mode": {
    "name": "ipython",
    "version": 2
   },
   "file_extension": ".py",
   "mimetype": "text/x-python",
   "name": "python",
   "nbconvert_exporter": "python",
   "pygments_lexer": "ipython2",
   "version": "2.7.8"
  }
 },
 "nbformat": 4,
 "nbformat_minor": 2
}
