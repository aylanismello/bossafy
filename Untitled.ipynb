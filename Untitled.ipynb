{
 "cells": [
  {
   "cell_type": "code",
   "execution_count": 34,
   "metadata": {
    "collapsed": true
   },
   "outputs": [],
   "source": [
    "    from mingus.core import progressions"
   ]
  },
  {
   "cell_type": "code",
   "execution_count": 35,
   "metadata": {},
   "outputs": [],
   "source": [
    "def chord_root_to_scale_degree(root, key):\n",
    "    return progressions.determine([root], key, True)[0]"
   ]
  },
  {
   "cell_type": "code",
   "execution_count": 36,
   "metadata": {},
   "outputs": [
    {
     "data": {
      "text/plain": [
       "'bvi'"
      ]
     },
     "execution_count": 36,
     "metadata": {},
     "output_type": "execute_result"
    }
   ],
   "source": [
    "chord_root_to_scale_degree('D', 'F#')"
   ]
  },
  {
   "cell_type": "markdown",
   "metadata": {},
   "source": [
    "Let's say we want to convert **D7/B** in the key of F# ..."
   ]
  },
  {
   "cell_type": "code",
   "execution_count": 37,
   "metadata": {},
   "outputs": [
    {
     "data": {
      "text/plain": [
       "'IV'"
      ]
     },
     "execution_count": 37,
     "metadata": {},
     "output_type": "execute_result"
    }
   ],
   "source": [
    "chord_root_to_scale_degree('B', 'F#')"
   ]
  },
  {
   "cell_type": "markdown",
   "metadata": {},
   "source": [
    "We want it to become `bvi7/IV`"
   ]
  },
  {
   "cell_type": "code",
   "execution_count": 41,
   "metadata": {},
   "outputs": [],
   "source": [
    "def chord_to_relative(chord, key):\n",
    "    return chord.replace('A', chord_root_to_scale_degree('A', key)) \\\n",
    "                .replace('A#', chord_root_to_scale_degree('A#', key)) \\\n",
    "                .replace('Ab', chord_root_to_scale_degree('Ab', key)) \\\n",
    "                .replace('B', chord_root_to_scale_degree('B', key)) \\\n",
    "                .replace('B#', chord_root_to_scale_degree('B#', key)) \\\n",
    "                .replace('Bb', chord_root_to_scale_degree('Bb', key)) \\\n",
    "                .replace('C', chord_root_to_scale_degree('C', key)) \\\n",
    "                .replace('C#', chord_root_to_scale_degree('C#', key)) \\\n",
    "                .replace('Cb', chord_root_to_scale_degree('Cb', key)) \\\n",
    "                .replace('D', chord_root_to_scale_degree('D', key)) \\\n",
    "                .replace('D#', chord_root_to_scale_degree('D#', key)) \\\n",
    "                .replace('Db', chord_root_to_scale_degree('Db', key)) \\\n",
    "                .replace('E', chord_root_to_scale_degree('E', key)) \\\n",
    "                .replace('E#', chord_root_to_scale_degree('E#', key)) \\\n",
    "                .replace('Eb', chord_root_to_scale_degree('Eb', key)) \\\n",
    "                .replace('F', chord_root_to_scale_degree('F', key)) \\\n",
    "                .replace('F#', chord_root_to_scale_degree('F#', key)) \\\n",
    "                .replace('Fb', chord_root_to_scale_degree('Fb', key)) \\\n",
    "                .replace('G', chord_root_to_scale_degree('G', key)) \\\n",
    "                .replace('G#', chord_root_to_scale_degree('G#', key)) \\\n",
    "                .replace('Gb', chord_root_to_scale_degree('Gb', key))"
   ]
  },
  {
   "cell_type": "code",
   "execution_count": 42,
   "metadata": {},
   "outputs": [
    {
     "data": {
      "text/plain": [
       "'bvi7/IV'"
      ]
     },
     "execution_count": 42,
     "metadata": {},
     "output_type": "execute_result"
    }
   ],
   "source": [
    "chord_to_relative('D7/B', 'F#')"
   ]
  },
  {
   "cell_type": "code",
   "execution_count": null,
   "metadata": {
    "collapsed": true
   },
   "outputs": [],
   "source": []
  }
 ],
 "metadata": {
  "kernelspec": {
   "display_name": "Python 2",
   "language": "python",
   "name": "python2"
  },
  "language_info": {
   "codemirror_mode": {
    "name": "ipython",
    "version": 2
   },
   "file_extension": ".py",
   "mimetype": "text/x-python",
   "name": "python",
   "nbconvert_exporter": "python",
   "pygments_lexer": "ipython2",
   "version": "2.7.12"
  }
 },
 "nbformat": 4,
 "nbformat_minor": 2
}
